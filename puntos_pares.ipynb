{
 "cells": [
  {
   "cell_type": "markdown",
   "metadata": {},
   "source": [
    ">2. Desarrollar un programa que ingrese un número flotante n y separe su parte entera de la parte decimal, y luego entregue los dígitos tanto de la parte entera como de la decimal."
   ]
  },
  {
   "cell_type": "code",
   "execution_count": 4,
   "metadata": {},
   "outputs": [
    {
     "name": "stdout",
     "output_type": "stream",
     "text": [
      "El numero es: 55.987\n",
      "La parte entera del numero es: 55\n",
      "La parte decimal es: 0.9870000000000019\n"
     ]
    }
   ],
   "source": [
    "def separar_flotante(n:float):\n",
    "  entero = int(n) #Se obtiene la parte entera del numero\n",
    "  decimal= n-entero #Se obtiene la parte decimal del numero\n",
    "  \n",
    "  return entero, decimal #Se retorna la parte entera y la parte decimal\n",
    "\n",
    "if __name__==\"__main__\":\n",
    "  n: float = float(input(\"Ingrese un numero\")) #Se pide al usuario que ingrese un numero\n",
    "  entero, decimal = separar_flotante(n) #Se obtiene la parte entera y la parte decimal del numero ingresado\n",
    "  \n",
    "  print(f\"El numero es: {n}\") \n",
    "  print(f\"La parte entera del numero es: {entero}\") #\n",
    "  print(f\"La parte decimal es: {decimal}\") \n"
   ]
  },
  {
   "cell_type": "markdown",
   "metadata": {},
   "source": [
    ">4. Diseñar una función que permita calcular una aproximación de la función coseno alrededor de 0 para cualquier valor x (real), utilizando los primeros n términos de la serie de Taylor. nota: use math para traer la función coseno y mostrar la diferencia entre el valor real y la aproximación. Calcule con cuántos términos de la serie (i.e: cuáles valores de n), se tienen errores del 10%, 1%, 0.1% y 0.001%."
   ]
  },
  {
   "cell_type": "code",
   "execution_count": 7,
   "metadata": {},
   "outputs": [
    {
     "name": "stdout",
     "output_type": "stream",
     "text": [
      "Valor aproximado de cos(x):  0.47708556223383236\n",
      "Valor real de cos(x):  0.40808206181339196\n",
      "Porcentaje de error del valor aproximado:  16.909221668262 %\n",
      "Si desea un porcentaje de error menor, intente: \n",
      "Para un porcentaje de error menor al 10%, utilice:  27 términos de la serie\n",
      "Para un porcentaje de error menor al 1%, utilice:  28 términos de la serie\n",
      "Para un porcentaje de error menor al 0.1%, utilice:  29 términos de la serie\n",
      "Para un porcentaje de error menor al 0.001%, utilice:  31 términos de la serie\n"
     ]
    }
   ],
   "source": [
    "import math\n",
    "\n",
    "#Función para calcular la aproximación del coseno de un número usando la serie de Taylor.\n",
    "def cos(x:float,n:int)->float:\n",
    "    aprox=0 #Variable que almacena la suma de la serie.\n",
    "    for i in range (n+1): #Itera desde 0 hasta n para sumar a aprox los términos solicitados de la serie.\n",
    "        nuevo_termino=(((-1)**i)*(x**(2*i)))/math.factorial(2*i) #Calcula el término actual de la serie.\n",
    "        aprox+=nuevo_termino #Suma el término a la aproximación.\n",
    "    return aprox #Devuelve la aproximación de coseno de x.\n",
    "\n",
    "#Función para calcular el número mínimo de términos que se necesitan para obtener ciertos porcentajes de error.\n",
    "def error(x:float)->float:\n",
    "    valor_real_cos=math.cos(x) #Math para hallar el valor real de cos(x).\n",
    "    errores=[10,1,0.1,0.001] #Lista de errores a calcular.\n",
    "    resultados=[] #Lista para almacenar el número de términos necesarios para cada porcentaje de error.\n",
    "    for i in errores: #Itera sobre cada uno de los errores a calcular.\n",
    "        n=1 #El número de términos inicia en 1.\n",
    "        while True:\n",
    "            valor_aproximado_cos=cos(x,n) #Calcula la aproximación con n términos.\n",
    "            error = abs((valor_real_cos-valor_aproximado_cos)/valor_real_cos)*100 #Calcula el error porcentual.\n",
    "            if error<=i: #Si el error es menor o igual al deseado, se almacena n en la lista de resultados y se sale del ciclo.\n",
    "                resultados.append(n)\n",
    "                break\n",
    "            n+=1 #Incrementa n para probar con un término más.\n",
    "    return resultados #Devuelve la lista con el número mínimo de términos que se necesitan para obtener los errores solicitados.\n",
    "\n",
    "if __name__==\"__main__\": \n",
    "    #Se solicita al usuario un valor para x y n.\n",
    "    x=float(input(\"Ingrese un número: \"))\n",
    "    n=int(input(\"¿Cuántos términos de la serie de Taylor desea utilizar para la aproximación?: \"))\n",
    "    \n",
    "    #Calcula el valor real y aproximado de coseno con las respectivas funciones.\n",
    "    real=math.cos(x)\n",
    "    aproximado=cos(x,n)\n",
    "\n",
    "    #Muestra el valor aproximado, el real y el error porcentual.\n",
    "    print(\"Valor aproximado de cos(x): \", aproximado)\n",
    "    print(\"Valor real de cos(x): \", real)\n",
    "    print(\"Porcentaje de error del valor aproximado: \", abs((real-aproximado)/real)*100,\"%\")\n",
    "\n",
    "    #Calcula y muestra el número de términos necesarios para alcanzar los diferentes porcentajes de error.\n",
    "    print(\"Si desea un porcentaje de error menor, intente: \")\n",
    "    print(\"Para un porcentaje de error menor al 10%, utilice: \", error(x)[0], \"términos de la serie\")\n",
    "    print(\"Para un porcentaje de error menor al 1%, utilice: \", error(x)[1], \"términos de la serie\")\n",
    "    print(\"Para un porcentaje de error menor al 0.1%, utilice: \", error(x)[2], \"términos de la serie\")\n",
    "    print(\"Para un porcentaje de error menor al 0.001%, utilice: \", error(x)[3], \"términos de la serie\")"
   ]
  },
  {
   "cell_type": "markdown",
   "metadata": {},
   "source": [
    ">6. Desarrollar un programa que determine si en una lista existen o no elementos repetidos. Pista: Maneje valores booleanos y utilice el operador in."
   ]
  },
  {
   "cell_type": "code",
   "execution_count": 9,
   "metadata": {},
   "outputs": [
    {
     "name": "stdout",
     "output_type": "stream",
     "text": [
      "Hay elementos repetidos\n"
     ]
    }
   ],
   "source": [
    "def elementos_repetidos(lista): \n",
    "  for i in lista : #Se recorre la lista\n",
    "    repetido=False  # Se inicializa la variable repetido en False\n",
    "    if lista.count(i)>1: # Si el elemento i se repite mas de una vez en la lista\n",
    "      repetido=True #Se cambia el valor de la variable repetido a True\n",
    "      break\n",
    "  if repetido: #Si la variable repetido es True, se imprime que hay elementos repetidos\n",
    "    print(\"Hay elementos repetidos\") \n",
    "  else: #Sino se imprime que no hay elementos repetidos\n",
    "    print(\"No hay elementos repetidos\") \n",
    "\n",
    "if __name__==\"__main__\":\n",
    "  lista = [1,2,4,\"a\",4] \n",
    "  elementos_repetidos(lista) "
   ]
  },
  {
   "cell_type": "markdown",
   "metadata": {},
   "source": [
    ">8. Desarrollar un programa que dadas dos listas determine que elementos tiene la primer lista que no tenga la segunda lista."
   ]
  },
  {
   "cell_type": "code",
   "execution_count": 10,
   "metadata": {},
   "outputs": [
    {
     "name": "stdout",
     "output_type": "stream",
     "text": [
      "[1, 'a']\n"
     ]
    }
   ],
   "source": [
    "def si_lista1_no_lista2(lista1: list,lista2: list) -> list:   \n",
    "  lista_result=[] # Se inicializa una lista vacía\n",
    "  for i in lista1: # Se recorre la lista1\n",
    "    if i not in lista2: # Si el elemento i de la lista 1 no está en la lista 2\n",
    "      lista_result.append(i) # Se agrega el elemento i a la lista_result\n",
    "  return lista_result \n",
    "\n",
    "if __name__==\"__main__\": \n",
    "  lista1=[1,2,3,4,5,\"a\"]\n",
    "  lista2=[5,3,2,4]\n",
    "  print(si_lista1_no_lista2(lista1,lista2))"
   ]
  },
  {
   "cell_type": "markdown",
   "metadata": {},
   "source": [
    ">10. Suponga que se tiene una lista A con ciertos números enteros. Desarrolle una función que, independientemente de los números que se encuentran en la lista A, tome aquellos números que son múltiplos de 3 y los guarde en una lista nueva, la cual debe ser retornada por la función. Implemente la perspectiva de un patrón de acumulación y también de comprensión de listas. Desafío: Si ya lo logró, inténtelo ahora sin utilizar el módulo (%). Pista: Un número es multiplo de 3 si la suma de sus dígitos también lo es, ¿verdad?"
   ]
  },
  {
   "cell_type": "code",
   "execution_count": 11,
   "metadata": {},
   "outputs": [
    {
     "name": "stdout",
     "output_type": "stream",
     "text": [
      "[3, 6, 9]\n",
      "[3, 6, 9]\n"
     ]
    }
   ],
   "source": [
    "def acum_mult_tres (A: list) -> list:\n",
    "  B=[] #Se inicializa una lista vacía\n",
    "  for i in A: #Se recorre la lista A\n",
    "    if i%3==0: #Si el elemento i de la lista A es multiplo de 3\n",
    "      B.append(i) #Se agrega el elemento i a la lista B\n",
    "  return B\n",
    "\n",
    "def compr_mult_tres(A: list) -> list:  \n",
    "  B=[i for i in A if i%3==0] #Se crea una lista B con los elementos de la lista A que son multiplos de 3\n",
    "  return B\n",
    "\n",
    "if __name__==\"__main__\":  \n",
    "  A=[1,2,3,4,5,6,7,8,9,10]\n",
    "  print(acum_mult_tres(A))\n",
    "  print(compr_mult_tres(A))"
   ]
  },
  {
   "cell_type": "code",
   "execution_count": 12,
   "metadata": {},
   "outputs": [
    {
     "name": "stdout",
     "output_type": "stream",
     "text": [
      "[8775, 9336, 9999]\n",
      "[8775, 9336, 9999]\n"
     ]
    }
   ],
   "source": [
    "#Desafio:\n",
    "\n",
    "def sumar_digitos(n:int)->int:\n",
    "  cantidad= len(str(n)) #Se almacena la cantidad de digitos del numero ingresado\n",
    "  if cantidad == 1: #Si el numero ingresado es de un solo digito\n",
    "    return n\n",
    "  elif n>0:\n",
    "    i: int =1   #Se inicializa la variable i en 1\n",
    "    sum=0       #Se inicializa la variable sum en 0\n",
    "    while i<=cantidad: #Mientras i sea menor o igual a la cantidad de digitos del numero ingresado\n",
    "      dig:int =(n//10**(cantidad-i))%10 #Se obtiene el digito de la posicion i\n",
    "      sum+=dig #Se suma el digito a la variable sum\n",
    "      i+=1 #Se incrementa i en 1 \n",
    "  return sumar_digitos(sum) # Se retorna la suma de los digitos hasta que sea de un solo digito\n",
    "\n",
    "def acum_mult_tres(A: list) -> list: \n",
    "  B=[]  #Se inicializa una lista vacía\n",
    "  for i in A:  #Se recorre la lista A\n",
    "    if sumar_digitos(i) in (3,6,9): #Si la suma de los digitos del elemento i de la lista A es 3, 6 o 9\n",
    "      B.append(i) #Se añade a la lista B\n", 
    "  return B\n",
    "\n",
    "def compr_mult_tres(A: list) -> list:\n",
    "  B=[i for i in A if sumar_digitos(i) in (3,6,9)] #Si la suma de los digitos del elemento i es 3,6 o 9 se añade a la lista \n",
    "  return B\n",
    "\n",
    "if __name__==\"__main__\":\n",
    "  A=[3223,3253,8775,9336,9999]\n",
    "  print(compr_mult_tres(A))\n",
    "  print(acum_mult_tres(A))"
   ]
  }
 ],
 "metadata": {
  "kernelspec": {
   "display_name": "Python 3",
   "language": "python",
   "name": "python3"
  },
  "language_info": {
   "codemirror_mode": {
    "name": "ipython",
    "version": 3
   },
   "file_extension": ".py",
   "mimetype": "text/x-python",
   "name": "python",
   "nbconvert_exporter": "python",
   "pygments_lexer": "ipython3",
   "version": "3.12.1"
  }
 },
 "nbformat": 4,
 "nbformat_minor": 2
}
